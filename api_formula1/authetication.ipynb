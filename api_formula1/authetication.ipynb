{
 "cells": [
  {
   "cell_type": "code",
   "execution_count": 11,
   "id": "227cfb30",
   "metadata": {},
   "outputs": [],
   "source": [
    "import json\n",
    "import pandas as pd\n",
    "import requests"
   ]
  },
  {
   "cell_type": "code",
   "execution_count": 18,
   "id": "9f09eefb",
   "metadata": {},
   "outputs": [
    {
     "name": "stdout",
     "output_type": "stream",
     "text": [
      "       meeting_key   session_key  driver_number\n",
      "count  5279.000000   5279.000000    5279.000000\n",
      "mean   1226.799394   9338.676833      28.442319\n",
      "std      26.961541    477.995756      23.541697\n",
      "min    1140.000000   7763.000000       1.000000\n",
      "25%    1217.000000   9153.000000      11.000000\n",
      "50%    1232.000000   9488.000000      22.000000\n",
      "75%    1245.000000   9599.000000      44.000000\n",
      "max    1258.000000  10022.000000      98.000000\n"
     ]
    }
   ],
   "source": [
    "drivers_url = 'https://api.openf1.org/v1/drivers'\n",
    "drivers_response = requests.get(drivers_url)\n",
    "\n",
    "if drivers_response.status_code == 200:\n",
    "    drivers_data = drivers_response.json()\n",
    "    drivers_df = pd.DataFrame(drivers_data)\n",
    "    print(drivers_df.describe())\n",
    "else:\n",
    "    print(f'Erro: {drivers_response.status_code}')"
   ]
  }
 ],
 "metadata": {
  "kernelspec": {
   "display_name": "Python 3",
   "language": "python",
   "name": "python3"
  },
  "language_info": {
   "codemirror_mode": {
    "name": "ipython",
    "version": 3
   },
   "file_extension": ".py",
   "mimetype": "text/x-python",
   "name": "python",
   "nbconvert_exporter": "python",
   "pygments_lexer": "ipython3",
   "version": "3.11.9"
  }
 },
 "nbformat": 4,
 "nbformat_minor": 5
}
